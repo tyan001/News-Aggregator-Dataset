{
 "cells": [
  {
   "cell_type": "code",
   "execution_count": 1,
   "metadata": {},
   "outputs": [],
   "source": [
    "import numpy as np\n",
    "import pandas as pd\n",
    "import matplotlib.pyplot as plt\n",
    "from sklearn.model_selection import train_test_split"
   ]
  },
  {
   "cell_type": "code",
   "execution_count": 46,
   "metadata": {},
   "outputs": [],
   "source": [
    "from tensorflow.keras.preprocessing.text import Tokenizer\n",
    "from tensorflow.keras.preprocessing.sequence import pad_sequences\n",
    "from tensorflow.keras.layers import Dense, Input, GlobalMaxPooling1D, Conv1D, MaxPooling1D\n",
    "from tensorflow.keras.layers import LSTM, Embedding, GRU\n",
    "import tensorflow as tf\n",
    "from mlutils import plot"
   ]
  },
  {
   "cell_type": "code",
   "execution_count": 3,
   "metadata": {},
   "outputs": [],
   "source": [
    "df = pd.read_csv('uci-news-aggregator.csv', encoding='ISO-8859-1') "
   ]
  },
  {
   "cell_type": "code",
   "execution_count": 4,
   "metadata": {},
   "outputs": [
    {
     "data": {
      "text/html": [
       "<div>\n",
       "<style scoped>\n",
       "    .dataframe tbody tr th:only-of-type {\n",
       "        vertical-align: middle;\n",
       "    }\n",
       "\n",
       "    .dataframe tbody tr th {\n",
       "        vertical-align: top;\n",
       "    }\n",
       "\n",
       "    .dataframe thead th {\n",
       "        text-align: right;\n",
       "    }\n",
       "</style>\n",
       "<table border=\"1\" class=\"dataframe\">\n",
       "  <thead>\n",
       "    <tr style=\"text-align: right;\">\n",
       "      <th></th>\n",
       "      <th>ID</th>\n",
       "      <th>TITLE</th>\n",
       "      <th>URL</th>\n",
       "      <th>PUBLISHER</th>\n",
       "      <th>CATEGORY</th>\n",
       "      <th>STORY</th>\n",
       "      <th>HOSTNAME</th>\n",
       "      <th>TIMESTAMP</th>\n",
       "    </tr>\n",
       "  </thead>\n",
       "  <tbody>\n",
       "    <tr>\n",
       "      <th>0</th>\n",
       "      <td>1</td>\n",
       "      <td>Fed official says weak data caused by weather,...</td>\n",
       "      <td>http://www.latimes.com/business/money/la-fi-mo...</td>\n",
       "      <td>Los Angeles Times</td>\n",
       "      <td>b</td>\n",
       "      <td>ddUyU0VZz0BRneMioxUPQVP6sIxvM</td>\n",
       "      <td>www.latimes.com</td>\n",
       "      <td>1394470370698</td>\n",
       "    </tr>\n",
       "    <tr>\n",
       "      <th>1</th>\n",
       "      <td>2</td>\n",
       "      <td>Fed's Charles Plosser sees high bar for change...</td>\n",
       "      <td>http://www.livemint.com/Politics/H2EvwJSK2VE6O...</td>\n",
       "      <td>Livemint</td>\n",
       "      <td>b</td>\n",
       "      <td>ddUyU0VZz0BRneMioxUPQVP6sIxvM</td>\n",
       "      <td>www.livemint.com</td>\n",
       "      <td>1394470371207</td>\n",
       "    </tr>\n",
       "    <tr>\n",
       "      <th>2</th>\n",
       "      <td>3</td>\n",
       "      <td>US open: Stocks fall after Fed official hints ...</td>\n",
       "      <td>http://www.ifamagazine.com/news/us-open-stocks...</td>\n",
       "      <td>IFA Magazine</td>\n",
       "      <td>b</td>\n",
       "      <td>ddUyU0VZz0BRneMioxUPQVP6sIxvM</td>\n",
       "      <td>www.ifamagazine.com</td>\n",
       "      <td>1394470371550</td>\n",
       "    </tr>\n",
       "    <tr>\n",
       "      <th>3</th>\n",
       "      <td>4</td>\n",
       "      <td>Fed risks falling 'behind the curve', Charles ...</td>\n",
       "      <td>http://www.ifamagazine.com/news/fed-risks-fall...</td>\n",
       "      <td>IFA Magazine</td>\n",
       "      <td>b</td>\n",
       "      <td>ddUyU0VZz0BRneMioxUPQVP6sIxvM</td>\n",
       "      <td>www.ifamagazine.com</td>\n",
       "      <td>1394470371793</td>\n",
       "    </tr>\n",
       "    <tr>\n",
       "      <th>4</th>\n",
       "      <td>5</td>\n",
       "      <td>Fed's Plosser: Nasty Weather Has Curbed Job Gr...</td>\n",
       "      <td>http://www.moneynews.com/Economy/federal-reser...</td>\n",
       "      <td>Moneynews</td>\n",
       "      <td>b</td>\n",
       "      <td>ddUyU0VZz0BRneMioxUPQVP6sIxvM</td>\n",
       "      <td>www.moneynews.com</td>\n",
       "      <td>1394470372027</td>\n",
       "    </tr>\n",
       "  </tbody>\n",
       "</table>\n",
       "</div>"
      ],
      "text/plain": [
       "   ID                                              TITLE  \\\n",
       "0   1  Fed official says weak data caused by weather,...   \n",
       "1   2  Fed's Charles Plosser sees high bar for change...   \n",
       "2   3  US open: Stocks fall after Fed official hints ...   \n",
       "3   4  Fed risks falling 'behind the curve', Charles ...   \n",
       "4   5  Fed's Plosser: Nasty Weather Has Curbed Job Gr...   \n",
       "\n",
       "                                                 URL          PUBLISHER  \\\n",
       "0  http://www.latimes.com/business/money/la-fi-mo...  Los Angeles Times   \n",
       "1  http://www.livemint.com/Politics/H2EvwJSK2VE6O...           Livemint   \n",
       "2  http://www.ifamagazine.com/news/us-open-stocks...       IFA Magazine   \n",
       "3  http://www.ifamagazine.com/news/fed-risks-fall...       IFA Magazine   \n",
       "4  http://www.moneynews.com/Economy/federal-reser...          Moneynews   \n",
       "\n",
       "  CATEGORY                          STORY             HOSTNAME      TIMESTAMP  \n",
       "0        b  ddUyU0VZz0BRneMioxUPQVP6sIxvM      www.latimes.com  1394470370698  \n",
       "1        b  ddUyU0VZz0BRneMioxUPQVP6sIxvM     www.livemint.com  1394470371207  \n",
       "2        b  ddUyU0VZz0BRneMioxUPQVP6sIxvM  www.ifamagazine.com  1394470371550  \n",
       "3        b  ddUyU0VZz0BRneMioxUPQVP6sIxvM  www.ifamagazine.com  1394470371793  \n",
       "4        b  ddUyU0VZz0BRneMioxUPQVP6sIxvM    www.moneynews.com  1394470372027  "
      ]
     },
     "execution_count": 4,
     "metadata": {},
     "output_type": "execute_result"
    }
   ],
   "source": [
    "df.head()"
   ]
  },
  {
   "cell_type": "code",
   "execution_count": 5,
   "metadata": {},
   "outputs": [],
   "source": [
    "df = df.drop(['TIMESTAMP'], axis=1)"
   ]
  },
  {
   "cell_type": "code",
   "execution_count": 6,
   "metadata": {},
   "outputs": [
    {
     "data": {
      "text/html": [
       "<div>\n",
       "<style scoped>\n",
       "    .dataframe tbody tr th:only-of-type {\n",
       "        vertical-align: middle;\n",
       "    }\n",
       "\n",
       "    .dataframe tbody tr th {\n",
       "        vertical-align: top;\n",
       "    }\n",
       "\n",
       "    .dataframe thead th {\n",
       "        text-align: right;\n",
       "    }\n",
       "</style>\n",
       "<table border=\"1\" class=\"dataframe\">\n",
       "  <thead>\n",
       "    <tr style=\"text-align: right;\">\n",
       "      <th></th>\n",
       "      <th>ID</th>\n",
       "      <th>TITLE</th>\n",
       "      <th>URL</th>\n",
       "      <th>PUBLISHER</th>\n",
       "      <th>CATEGORY</th>\n",
       "      <th>STORY</th>\n",
       "      <th>HOSTNAME</th>\n",
       "    </tr>\n",
       "  </thead>\n",
       "  <tbody>\n",
       "    <tr>\n",
       "      <th>0</th>\n",
       "      <td>1</td>\n",
       "      <td>Fed official says weak data caused by weather,...</td>\n",
       "      <td>http://www.latimes.com/business/money/la-fi-mo...</td>\n",
       "      <td>Los Angeles Times</td>\n",
       "      <td>b</td>\n",
       "      <td>ddUyU0VZz0BRneMioxUPQVP6sIxvM</td>\n",
       "      <td>www.latimes.com</td>\n",
       "    </tr>\n",
       "    <tr>\n",
       "      <th>1</th>\n",
       "      <td>2</td>\n",
       "      <td>Fed's Charles Plosser sees high bar for change...</td>\n",
       "      <td>http://www.livemint.com/Politics/H2EvwJSK2VE6O...</td>\n",
       "      <td>Livemint</td>\n",
       "      <td>b</td>\n",
       "      <td>ddUyU0VZz0BRneMioxUPQVP6sIxvM</td>\n",
       "      <td>www.livemint.com</td>\n",
       "    </tr>\n",
       "    <tr>\n",
       "      <th>2</th>\n",
       "      <td>3</td>\n",
       "      <td>US open: Stocks fall after Fed official hints ...</td>\n",
       "      <td>http://www.ifamagazine.com/news/us-open-stocks...</td>\n",
       "      <td>IFA Magazine</td>\n",
       "      <td>b</td>\n",
       "      <td>ddUyU0VZz0BRneMioxUPQVP6sIxvM</td>\n",
       "      <td>www.ifamagazine.com</td>\n",
       "    </tr>\n",
       "    <tr>\n",
       "      <th>3</th>\n",
       "      <td>4</td>\n",
       "      <td>Fed risks falling 'behind the curve', Charles ...</td>\n",
       "      <td>http://www.ifamagazine.com/news/fed-risks-fall...</td>\n",
       "      <td>IFA Magazine</td>\n",
       "      <td>b</td>\n",
       "      <td>ddUyU0VZz0BRneMioxUPQVP6sIxvM</td>\n",
       "      <td>www.ifamagazine.com</td>\n",
       "    </tr>\n",
       "    <tr>\n",
       "      <th>4</th>\n",
       "      <td>5</td>\n",
       "      <td>Fed's Plosser: Nasty Weather Has Curbed Job Gr...</td>\n",
       "      <td>http://www.moneynews.com/Economy/federal-reser...</td>\n",
       "      <td>Moneynews</td>\n",
       "      <td>b</td>\n",
       "      <td>ddUyU0VZz0BRneMioxUPQVP6sIxvM</td>\n",
       "      <td>www.moneynews.com</td>\n",
       "    </tr>\n",
       "  </tbody>\n",
       "</table>\n",
       "</div>"
      ],
      "text/plain": [
       "   ID                                              TITLE  \\\n",
       "0   1  Fed official says weak data caused by weather,...   \n",
       "1   2  Fed's Charles Plosser sees high bar for change...   \n",
       "2   3  US open: Stocks fall after Fed official hints ...   \n",
       "3   4  Fed risks falling 'behind the curve', Charles ...   \n",
       "4   5  Fed's Plosser: Nasty Weather Has Curbed Job Gr...   \n",
       "\n",
       "                                                 URL          PUBLISHER  \\\n",
       "0  http://www.latimes.com/business/money/la-fi-mo...  Los Angeles Times   \n",
       "1  http://www.livemint.com/Politics/H2EvwJSK2VE6O...           Livemint   \n",
       "2  http://www.ifamagazine.com/news/us-open-stocks...       IFA Magazine   \n",
       "3  http://www.ifamagazine.com/news/fed-risks-fall...       IFA Magazine   \n",
       "4  http://www.moneynews.com/Economy/federal-reser...          Moneynews   \n",
       "\n",
       "  CATEGORY                          STORY             HOSTNAME  \n",
       "0        b  ddUyU0VZz0BRneMioxUPQVP6sIxvM      www.latimes.com  \n",
       "1        b  ddUyU0VZz0BRneMioxUPQVP6sIxvM     www.livemint.com  \n",
       "2        b  ddUyU0VZz0BRneMioxUPQVP6sIxvM  www.ifamagazine.com  \n",
       "3        b  ddUyU0VZz0BRneMioxUPQVP6sIxvM  www.ifamagazine.com  \n",
       "4        b  ddUyU0VZz0BRneMioxUPQVP6sIxvM    www.moneynews.com  "
      ]
     },
     "execution_count": 6,
     "metadata": {},
     "output_type": "execute_result"
    }
   ],
   "source": [
    "df.head()"
   ]
  },
  {
   "cell_type": "code",
   "execution_count": 7,
   "metadata": {},
   "outputs": [
    {
     "data": {
      "text/plain": [
       "0         b\n",
       "1         b\n",
       "2         b\n",
       "3         b\n",
       "4         b\n",
       "         ..\n",
       "422414    m\n",
       "422415    m\n",
       "422416    m\n",
       "422417    m\n",
       "422418    m\n",
       "Name: CATEGORY, Length: 422419, dtype: object"
      ]
     },
     "execution_count": 7,
     "metadata": {},
     "output_type": "execute_result"
    }
   ],
   "source": [
    "df['CATEGORY']"
   ]
  },
  {
   "cell_type": "code",
   "execution_count": 8,
   "metadata": {},
   "outputs": [],
   "source": [
    "df['ca_labels'] = df['CATEGORY'].map({'b':0, 't':1, 'e':2, 'm':3})"
   ]
  },
  {
   "cell_type": "code",
   "execution_count": 9,
   "metadata": {},
   "outputs": [
    {
     "data": {
      "text/plain": [
       "0         0\n",
       "1         0\n",
       "2         0\n",
       "3         0\n",
       "4         0\n",
       "         ..\n",
       "422414    3\n",
       "422415    3\n",
       "422416    3\n",
       "422417    3\n",
       "422418    3\n",
       "Name: ca_labels, Length: 422419, dtype: int64"
      ]
     },
     "execution_count": 9,
     "metadata": {},
     "output_type": "execute_result"
    }
   ],
   "source": [
    "df['ca_labels']"
   ]
  },
  {
   "cell_type": "code",
   "execution_count": 10,
   "metadata": {},
   "outputs": [],
   "source": [
    "y = df['ca_labels'].values"
   ]
  },
  {
   "cell_type": "code",
   "execution_count": 11,
   "metadata": {},
   "outputs": [
    {
     "data": {
      "text/plain": [
       "array([0, 0, 0, ..., 3, 3, 3], dtype=int64)"
      ]
     },
     "execution_count": 11,
     "metadata": {},
     "output_type": "execute_result"
    }
   ],
   "source": [
    "y"
   ]
  },
  {
   "cell_type": "code",
   "execution_count": 12,
   "metadata": {},
   "outputs": [],
   "source": [
    "x_train, x_test, y_train, y_test = train_test_split(df['TITLE'], y,test_size=0.33)"
   ]
  },
  {
   "cell_type": "code",
   "execution_count": 13,
   "metadata": {},
   "outputs": [
    {
     "data": {
      "text/plain": [
       "array([3, 1, 1, ..., 2, 2, 0], dtype=int64)"
      ]
     },
     "execution_count": 13,
     "metadata": {},
     "output_type": "execute_result"
    }
   ],
   "source": [
    "y_train"
   ]
  },
  {
   "cell_type": "code",
   "execution_count": 14,
   "metadata": {},
   "outputs": [],
   "source": [
    "vocab_size = 2000\n",
    "embedded_dim = 8\n",
    "max_len = 120\n",
    "trunc_type = 'post'\n",
    "oov_tok = \"<OOV>\""
   ]
  },
  {
   "cell_type": "code",
   "execution_count": 15,
   "metadata": {},
   "outputs": [],
   "source": [
    "tokenizer = Tokenizer(num_words=vocab_size, oov_token=oov_tok)"
   ]
  },
  {
   "cell_type": "code",
   "execution_count": 16,
   "metadata": {},
   "outputs": [],
   "source": [
    "tokenizer.fit_on_texts(x_train)\n",
    "word_index = tokenizer.word_index\n",
    "sequences = tokenizer.texts_to_sequences(x_train)"
   ]
  },
  {
   "cell_type": "code",
   "execution_count": 17,
   "metadata": {},
   "outputs": [
    {
     "data": {
      "text/plain": [
       "64494"
      ]
     },
     "execution_count": 17,
     "metadata": {},
     "output_type": "execute_result"
    }
   ],
   "source": [
    "len(word_index)"
   ]
  },
  {
   "cell_type": "code",
   "execution_count": 18,
   "metadata": {},
   "outputs": [],
   "source": [
    "padded = pad_sequences(sequences,maxlen=max_len, truncating=trunc_type)"
   ]
  },
  {
   "cell_type": "code",
   "execution_count": 19,
   "metadata": {},
   "outputs": [
    {
     "data": {
      "text/plain": [
       "(283020, 120)"
      ]
     },
     "execution_count": 19,
     "metadata": {},
     "output_type": "execute_result"
    }
   ],
   "source": [
    "padded.shape"
   ]
  },
  {
   "cell_type": "code",
   "execution_count": 20,
   "metadata": {},
   "outputs": [],
   "source": [
    "testing_sequences = tokenizer.texts_to_sequences(x_test)\n",
    "testing_padded = pad_sequences(testing_sequences, maxlen=max_len)"
   ]
  },
  {
   "cell_type": "code",
   "execution_count": 21,
   "metadata": {},
   "outputs": [
    {
     "data": {
      "text/plain": [
       "(139399, 120)"
      ]
     },
     "execution_count": 21,
     "metadata": {},
     "output_type": "execute_result"
    }
   ],
   "source": [
    "testing_padded.shape"
   ]
  },
  {
   "cell_type": "code",
   "execution_count": 22,
   "metadata": {},
   "outputs": [],
   "source": [
    "model = tf.keras.Sequential([\n",
    "    tf.keras.layers.Embedding(vocab_size,embedded_dim,input_length=max_len),\n",
    "    tf.keras.layers.GlobalMaxPooling1D(),\n",
    "    tf.keras.layers.Dense(30, activation='relu'),\n",
    "    tf.keras.layers.Dense(4, activation='softmax')\n",
    "])"
   ]
  },
  {
   "cell_type": "code",
   "execution_count": 23,
   "metadata": {},
   "outputs": [],
   "source": [
    "model.compile(loss='sparse_categorical_crossentropy',metrics=['acc'], optimizer='adam')"
   ]
  },
  {
   "cell_type": "code",
   "execution_count": 24,
   "metadata": {},
   "outputs": [
    {
     "name": "stdout",
     "output_type": "stream",
     "text": [
      "Epoch 1/10\n",
      "4423/4423 [==============================] - 16s 4ms/step - loss: 0.5254 - acc: 0.7995 - val_loss: 0.3867 - val_acc: 0.8567\n",
      "Epoch 2/10\n",
      "4423/4423 [==============================] - 16s 4ms/step - loss: 0.3728 - acc: 0.8625 - val_loss: 0.3722 - val_acc: 0.8613\n",
      "Epoch 3/10\n",
      "4423/4423 [==============================] - 16s 4ms/step - loss: 0.3609 - acc: 0.8658 - val_loss: 0.3663 - val_acc: 0.8636\n",
      "Epoch 4/10\n",
      "4423/4423 [==============================] - 16s 4ms/step - loss: 0.3544 - acc: 0.8683 - val_loss: 0.3634 - val_acc: 0.8647\n",
      "Epoch 5/10\n",
      "4423/4423 [==============================] - 16s 4ms/step - loss: 0.3500 - acc: 0.8696 - val_loss: 0.3616 - val_acc: 0.8655\n",
      "Epoch 6/10\n",
      "4423/4423 [==============================] - 16s 4ms/step - loss: 0.3460 - acc: 0.8709 - val_loss: 0.3598 - val_acc: 0.8671\n",
      "Epoch 7/10\n",
      "4423/4423 [==============================] - 16s 4ms/step - loss: 0.3430 - acc: 0.8724 - val_loss: 0.3579 - val_acc: 0.8675\n",
      "Epoch 8/10\n",
      "4423/4423 [==============================] - 16s 4ms/step - loss: 0.3403 - acc: 0.8731 - val_loss: 0.3570 - val_acc: 0.8677\n",
      "Epoch 9/10\n",
      "4423/4423 [==============================] - 16s 4ms/step - loss: 0.3379 - acc: 0.8740 - val_loss: 0.3559 - val_acc: 0.8691\n",
      "Epoch 10/10\n",
      "4423/4423 [==============================] - 16s 4ms/step - loss: 0.3353 - acc: 0.8746 - val_loss: 0.3547 - val_acc: 0.8688\n"
     ]
    }
   ],
   "source": [
    "hist = model.fit(padded,y_train,batch_size=64, epochs=10, validation_data=(testing_padded,y_test), validation_batch_size=64)"
   ]
  },
  {
   "cell_type": "code",
   "execution_count": 25,
   "metadata": {},
   "outputs": [
    {
     "data": {
      "image/png": "[encoded data removed]",
      "text/plain": [
       "<Figure size 432x288 with 1 Axes>"
      ]
     },
     "metadata": {
      "needs_background": "light"
     },
     "output_type": "display_data"
    }
   ],
   "source": [
    "plot(hist)"
   ]
  },
  {
   "cell_type": "code",
   "execution_count": 26,
   "metadata": {},
   "outputs": [
    {
     "data": {
      "image/png": "[encoded data removed]",
      "text/plain": [
       "<Figure size 432x288 with 1 Axes>"
      ]
     },
     "metadata": {
      "needs_background": "light"
     },
     "output_type": "display_data"
    }
   ],
   "source": [
    "plot(hist, 'acc')"
   ]
  },
  {
   "cell_type": "code",
   "execution_count": 27,
   "metadata": {},
   "outputs": [],
   "source": [
    "model = tf.keras.Sequential([\n",
    "    tf.keras.layers.Embedding(vocab_size,embedded_dim,input_length=max_len),\n",
    "    tf.keras.layers.LSTM(15, return_sequences=True),\n",
    "    tf.keras.layers.GlobalMaxPooling1D(),\n",
    "    tf.keras.layers.Dense(30, activation='relu'),\n",
    "    tf.keras.layers.Dense(4, activation='softmax')\n",
    "])"
   ]
  },
  {
   "cell_type": "code",
   "execution_count": 28,
   "metadata": {},
   "outputs": [],
   "source": [
    "model.compile(loss='sparse_categorical_crossentropy',metrics=['acc'], optimizer='adam')"
   ]
  },
  {
   "cell_type": "code",
   "execution_count": 29,
   "metadata": {},
   "outputs": [
    {
     "name": "stdout",
     "output_type": "stream",
     "text": [
      "Epoch 1/10\n",
      "4423/4423 [==============================] - 38s 9ms/step - loss: 0.5354 - acc: 0.7869 - val_loss: 0.3805 - val_acc: 0.8585\n",
      "Epoch 2/10\n",
      "4423/4423 [==============================] - 38s 9ms/step - loss: 0.3665 - acc: 0.8637 - val_loss: 0.3622 - val_acc: 0.8647\n",
      "Epoch 3/10\n",
      "4423/4423 [==============================] - 38s 9ms/step - loss: 0.3493 - acc: 0.8702 - val_loss: 0.3492 - val_acc: 0.8692\n",
      "Epoch 4/10\n",
      "4423/4423 [==============================] - 38s 9ms/step - loss: 0.3386 - acc: 0.8734 - val_loss: 0.3446 - val_acc: 0.8712\n",
      "Epoch 5/10\n",
      "4423/4423 [==============================] - 38s 9ms/step - loss: 0.3305 - acc: 0.8764 - val_loss: 0.3377 - val_acc: 0.8738\n",
      "Epoch 6/10\n",
      "4423/4423 [==============================] - 38s 9ms/step - loss: 0.3241 - acc: 0.8786 - val_loss: 0.3344 - val_acc: 0.8755\n",
      "Epoch 7/10\n",
      "4423/4423 [==============================] - 39s 9ms/step - loss: 0.3190 - acc: 0.8808 - val_loss: 0.3333 - val_acc: 0.8759\n",
      "Epoch 8/10\n",
      "4423/4423 [==============================] - 39s 9ms/step - loss: 0.3143 - acc: 0.8826 - val_loss: 0.3326 - val_acc: 0.8767\n",
      "Epoch 9/10\n",
      "4423/4423 [==============================] - 39s 9ms/step - loss: 0.3100 - acc: 0.8844 - val_loss: 0.3335 - val_acc: 0.8759\n",
      "Epoch 10/10\n",
      "4423/4423 [==============================] - 38s 9ms/step - loss: 0.3066 - acc: 0.8857 - val_loss: 0.3299 - val_acc: 0.8777\n"
     ]
    }
   ],
   "source": [
    "hist = model.fit(padded,y_train,batch_size=64, epochs=10, validation_data=(testing_padded,y_test), validation_batch_size=64)"
   ]
  },
  {
   "cell_type": "code",
   "execution_count": 30,
   "metadata": {},
   "outputs": [
    {
     "data": {
      "image/png": "[encoded data removed]",
      "text/plain": [
       "<Figure size 432x288 with 1 Axes>"
      ]
     },
     "metadata": {
      "needs_background": "light"
     },
     "output_type": "display_data"
    }
   ],
   "source": [
    "plot(hist)"
   ]
  },
  {
   "cell_type": "code",
   "execution_count": 31,
   "metadata": {},
   "outputs": [
    {
     "data": {
      "image/png": "[encoded data removed]",
      "text/plain": [
       "<Figure size 432x288 with 1 Axes>"
      ]
     },
     "metadata": {
      "needs_background": "light"
     },
     "output_type": "display_data"
    }
   ],
   "source": [
    "plot(hist, 'acc')"
   ]
  },
  {
   "cell_type": "code",
   "execution_count": 32,
   "metadata": {},
   "outputs": [],
   "source": [
    "model = tf.keras.Sequential([\n",
    "    tf.keras.layers.Embedding(vocab_size,embedded_dim,input_length=max_len),\n",
    "    tf.keras.layers.Bidirectional(LSTM(15, return_sequences=True)),\n",
    "    tf.keras.layers.GlobalMaxPooling1D(),\n",
    "    tf.keras.layers.Dense(30, activation='relu'),\n",
    "    tf.keras.layers.Dense(4, activation='softmax')\n",
    "])"
   ]
  },
  {
   "cell_type": "code",
   "execution_count": 33,
   "metadata": {},
   "outputs": [],
   "source": [
    "model.compile(loss='sparse_categorical_crossentropy',metrics=['acc'], optimizer='adam')"
   ]
  },
  {
   "cell_type": "code",
   "execution_count": 34,
   "metadata": {},
   "outputs": [
    {
     "name": "stdout",
     "output_type": "stream",
     "text": [
      "Epoch 1/10\n",
      "4423/4423 [==============================] - 60s 13ms/step - loss: 0.4646 - acc: 0.8214 - val_loss: 0.3581 - val_acc: 0.8661\n",
      "Epoch 2/10\n",
      "4423/4423 [==============================] - 58s 13ms/step - loss: 0.3515 - acc: 0.8680 - val_loss: 0.3481 - val_acc: 0.8684\n",
      "Epoch 3/10\n",
      "4423/4423 [==============================] - 60s 14ms/step - loss: 0.3389 - acc: 0.8728 - val_loss: 0.3426 - val_acc: 0.8701\n",
      "Epoch 4/10\n",
      "4423/4423 [==============================] - 58s 13ms/step - loss: 0.3304 - acc: 0.8762 - val_loss: 0.3370 - val_acc: 0.8739\n",
      "Epoch 5/10\n",
      "4423/4423 [==============================] - 58s 13ms/step - loss: 0.3238 - acc: 0.8787 - val_loss: 0.3358 - val_acc: 0.8747\n",
      "Epoch 6/10\n",
      "4423/4423 [==============================] - 58s 13ms/step - loss: 0.3189 - acc: 0.8808 - val_loss: 0.3328 - val_acc: 0.8758\n",
      "Epoch 7/10\n",
      "4423/4423 [==============================] - 58s 13ms/step - loss: 0.3141 - acc: 0.8828 - val_loss: 0.3306 - val_acc: 0.8769\n",
      "Epoch 8/10\n",
      "4423/4423 [==============================] - 63s 14ms/step - loss: 0.3098 - acc: 0.8838 - val_loss: 0.3322 - val_acc: 0.8764\n",
      "Epoch 9/10\n",
      "4423/4423 [==============================] - 60s 14ms/step - loss: 0.3053 - acc: 0.8858 - val_loss: 0.3277 - val_acc: 0.8788\n",
      "Epoch 10/10\n",
      "4423/4423 [==============================] - 58s 13ms/step - loss: 0.3016 - acc: 0.8877 - val_loss: 0.3281 - val_acc: 0.8787\n"
     ]
    }
   ],
   "source": [
    "hist = model.fit(padded,y_train,batch_size=64, epochs=10, validation_data=(testing_padded,y_test), validation_batch_size=64)"
   ]
  },
  {
   "cell_type": "code",
   "execution_count": 35,
   "metadata": {},
   "outputs": [
    {
     "data": {
      "image/png": "[encoded data removed]",
      "text/plain": [
       "<Figure size 432x288 with 1 Axes>"
      ]
     },
     "metadata": {
      "needs_background": "light"
     },
     "output_type": "display_data"
    }
   ],
   "source": [
    "plot(hist)"
   ]
  },
  {
   "cell_type": "code",
   "execution_count": 36,
   "metadata": {},
   "outputs": [
    {
     "data": {
      "image/png": "[encoded data removed]",
      "text/plain": [
       "<Figure size 432x288 with 1 Axes>"
      ]
     },
     "metadata": {
      "needs_background": "light"
     },
     "output_type": "display_data"
    }
   ],
   "source": [
    "plot(hist, 'acc')"
   ]
  },
  {
   "cell_type": "code",
   "execution_count": 41,
   "metadata": {},
   "outputs": [],
   "source": [
    "model = tf.keras.Sequential([\n",
    "    tf.keras.layers.Embedding(vocab_size,embedded_dim,input_length=max_len),\n",
    "    tf.keras.layers.GRU(15, return_sequences=True),\n",
    "    tf.keras.layers.GlobalMaxPooling1D(),\n",
    "    tf.keras.layers.Dense(30, activation='relu'),\n",
    "    tf.keras.layers.Dense(4, activation='softmax')\n",
    "])"
   ]
  },
  {
   "cell_type": "code",
   "execution_count": 42,
   "metadata": {},
   "outputs": [],
   "source": [
    "model.compile(loss='sparse_categorical_crossentropy',metrics=['acc'], optimizer='adam')"
   ]
  },
  {
   "cell_type": "code",
   "execution_count": 43,
   "metadata": {},
   "outputs": [
    {
     "name": "stdout",
     "output_type": "stream",
     "text": [
      "Epoch 1/10\n",
      "4423/4423 [==============================] - 38s 9ms/step - loss: 0.4776 - acc: 0.8164 - val_loss: 0.3741 - val_acc: 0.8618\n",
      "Epoch 2/10\n",
      "4423/4423 [==============================] - 37s 8ms/step - loss: 0.3637 - acc: 0.8649 - val_loss: 0.3561 - val_acc: 0.8670\n",
      "Epoch 3/10\n",
      "4423/4423 [==============================] - 37s 8ms/step - loss: 0.3467 - acc: 0.8702 - val_loss: 0.3463 - val_acc: 0.8703\n",
      "Epoch 4/10\n",
      "4423/4423 [==============================] - 38s 9ms/step - loss: 0.3357 - acc: 0.8740 - val_loss: 0.3417 - val_acc: 0.8722\n",
      "Epoch 5/10\n",
      "4423/4423 [==============================] - 37s 8ms/step - loss: 0.3273 - acc: 0.8773 - val_loss: 0.3367 - val_acc: 0.8738\n",
      "Epoch 6/10\n",
      "4423/4423 [==============================] - 37s 8ms/step - loss: 0.3206 - acc: 0.8796 - val_loss: 0.3351 - val_acc: 0.8749\n",
      "Epoch 7/10\n",
      "4423/4423 [==============================] - 37s 8ms/step - loss: 0.3148 - acc: 0.8822 - val_loss: 0.3360 - val_acc: 0.8752\n",
      "Epoch 8/10\n",
      "4423/4423 [==============================] - 37s 8ms/step - loss: 0.3105 - acc: 0.8840 - val_loss: 0.3312 - val_acc: 0.8761\n",
      "Epoch 9/10\n",
      "4423/4423 [==============================] - 37s 8ms/step - loss: 0.3062 - acc: 0.8853 - val_loss: 0.3295 - val_acc: 0.8775\n",
      "Epoch 10/10\n",
      "4423/4423 [==============================] - 37s 8ms/step - loss: 0.3030 - acc: 0.8867 - val_loss: 0.3285 - val_acc: 0.8775\n"
     ]
    }
   ],
   "source": [
    "hist = model.fit(padded,y_train,batch_size=64, epochs=10, validation_data=(testing_padded,y_test), validation_batch_size=64)"
   ]
  },
  {
   "cell_type": "code",
   "execution_count": 44,
   "metadata": {},
   "outputs": [
    {
     "data": {
      "image/png": "[encoded data removed]",
      "text/plain": [
       "<Figure size 432x288 with 1 Axes>"
      ]
     },
     "metadata": {
      "needs_background": "light"
     },
     "output_type": "display_data"
    }
   ],
   "source": [
    "plot(hist)"
   ]
  },
  {
   "cell_type": "code",
   "execution_count": 45,
   "metadata": {},
   "outputs": [
    {
     "data": {
      "image/png": "[encoded data removed]",
      "text/plain": [
       "<Figure size 432x288 with 1 Axes>"
      ]
     },
     "metadata": {
      "needs_background": "light"
     },
     "output_type": "display_data"
    }
   ],
   "source": [
    "plot(hist, 'acc')"
   ]
  },
  {
   "cell_type": "code",
   "execution_count": 48,
   "metadata": {},
   "outputs": [],
   "source": [
    "model = tf.keras.Sequential([\n",
    "    tf.keras.layers.Embedding(vocab_size,embedded_dim,input_length=max_len),\n",
    "    tf.keras.layers.Bidirectional(GRU(15, return_sequences=True)),\n",
    "    tf.keras.layers.GlobalMaxPooling1D(),\n",
    "    tf.keras.layers.Dense(30, activation='relu'),\n",
    "    tf.keras.layers.Dense(4, activation='softmax')\n",
    "])"
   ]
  },
  {
   "cell_type": "code",
   "execution_count": 49,
   "metadata": {},
   "outputs": [],
   "source": [
    "model.compile(loss='sparse_categorical_crossentropy',metrics=['acc'], optimizer='adam')"
   ]
  },
  {
   "cell_type": "code",
   "execution_count": 50,
   "metadata": {},
   "outputs": [
    {
     "name": "stdout",
     "output_type": "stream",
     "text": [
      "Epoch 1/10\n",
      "4423/4423 [==============================] - 58s 13ms/step - loss: 0.4563 - acc: 0.8267 - val_loss: 0.3603 - val_acc: 0.8656\n",
      "Epoch 2/10\n",
      "4423/4423 [==============================] - 60s 14ms/step - loss: 0.3514 - acc: 0.8693 - val_loss: 0.3459 - val_acc: 0.8700\n",
      "Epoch 3/10\n",
      "4423/4423 [==============================] - 59s 13ms/step - loss: 0.3381 - acc: 0.8738 - val_loss: 0.3378 - val_acc: 0.8730\n",
      "Epoch 4/10\n",
      "4423/4423 [==============================] - 58s 13ms/step - loss: 0.3294 - acc: 0.8771 - val_loss: 0.3348 - val_acc: 0.8740\n",
      "Epoch 5/10\n",
      "4423/4423 [==============================] - 56s 13ms/step - loss: 0.3215 - acc: 0.8798 - val_loss: 0.3306 - val_acc: 0.8767\n",
      "Epoch 6/10\n",
      "4423/4423 [==============================] - 57s 13ms/step - loss: 0.3152 - acc: 0.8823 - val_loss: 0.3274 - val_acc: 0.8776\n",
      "Epoch 7/10\n",
      "4423/4423 [==============================] - 57s 13ms/step - loss: 0.3096 - acc: 0.8843 - val_loss: 0.3289 - val_acc: 0.8769\n",
      "Epoch 8/10\n",
      "4423/4423 [==============================] - 57s 13ms/step - loss: 0.3053 - acc: 0.8861 - val_loss: 0.3292 - val_acc: 0.8768\n",
      "Epoch 9/10\n",
      "4423/4423 [==============================] - 62s 14ms/step - loss: 0.3009 - acc: 0.8877 - val_loss: 0.3256 - val_acc: 0.8798\n",
      "Epoch 10/10\n",
      "4423/4423 [==============================] - 57s 13ms/step - loss: 0.2969 - acc: 0.8896 - val_loss: 0.3241 - val_acc: 0.8796\n"
     ]
    }
   ],
   "source": [
    "hist = model.fit(padded,y_train,batch_size=64, epochs=10, validation_data=(testing_padded,y_test), validation_batch_size=64)"
   ]
  },
  {
   "cell_type": "code",
   "execution_count": 51,
   "metadata": {},
   "outputs": [
    {
     "data": {
      "image/png": "[encoded data removed]",
      "text/plain": [
       "<Figure size 432x288 with 1 Axes>"
      ]
     },
     "metadata": {
      "needs_background": "light"
     },
     "output_type": "display_data"
    }
   ],
   "source": [
    "plot(hist)"
   ]
  },
  {
   "cell_type": "code",
   "execution_count": 52,
   "metadata": {},
   "outputs": [
    {
     "data": {
      "image/png": "[encoded data removed]",
      "text/plain": [
       "<Figure size 432x288 with 1 Axes>"
      ]
     },
     "metadata": {
      "needs_background": "light"
     },
     "output_type": "display_data"
    }
   ],
   "source": [
    "plot(hist, 'acc')"
   ]
  },
  {
   "cell_type": "code",
   "execution_count": 56,
   "metadata": {},
   "outputs": [],
   "source": [
    "model = tf.keras.Sequential([\n",
    "    tf.keras.layers.Embedding(vocab_size,embedded_dim,input_length=max_len),\n",
    "    tf.keras.layers.Conv1D(128, 5, activation='relu'),\n",
    "    tf.keras.layers.GlobalAveragePooling1D(),\n",
    "    tf.keras.layers.Dense(50, activation='relu'),\n",
    "    tf.keras.layers.Dense(4, activation='softmax')\n",
    "])"
   ]
  },
  {
   "cell_type": "code",
   "execution_count": 57,
   "metadata": {},
   "outputs": [
    {
     "name": "stdout",
     "output_type": "stream",
     "text": [
      "Model: \"sequential_6\"\n",
      "_________________________________________________________________\n",
      "Layer (type)                 Output Shape              Param #   \n",
      "=================================================================\n",
      "embedding_11 (Embedding)     (None, 120, 8)            16000     \n",
      "_________________________________________________________________\n",
      "conv1d_3 (Conv1D)            (None, 116, 128)          5248      \n",
      "_________________________________________________________________\n",
      "global_average_pooling1d (Gl (None, 128)               0         \n",
      "_________________________________________________________________\n",
      "dense_12 (Dense)             (None, 50)                6450      \n",
      "_________________________________________________________________\n",
      "dense_13 (Dense)             (None, 4)                 204       \n",
      "=================================================================\n",
      "Total params: 27,902\n",
      "Trainable params: 27,902\n",
      "Non-trainable params: 0\n",
      "_________________________________________________________________\n"
     ]
    }
   ],
   "source": [
    "model.summary()"
   ]
  },
  {
   "cell_type": "code",
   "execution_count": 58,
   "metadata": {},
   "outputs": [],
   "source": [
    "model.compile(loss='sparse_categorical_crossentropy',metrics=['acc'], optimizer='adam')"
   ]
  },
  {
   "cell_type": "code",
   "execution_count": 59,
   "metadata": {},
   "outputs": [
    {
     "name": "stdout",
     "output_type": "stream",
     "text": [
      "Epoch 1/10\n",
      "4423/4423 [==============================] - 19s 4ms/step - loss: 0.6049 - acc: 0.7513 - val_loss: 0.3862 - val_acc: 0.8580\n",
      "Epoch 2/10\n",
      "4423/4423 [==============================] - 19s 4ms/step - loss: 0.3676 - acc: 0.8635 - val_loss: 0.3597 - val_acc: 0.8661\n",
      "Epoch 3/10\n",
      "4423/4423 [==============================] - 19s 4ms/step - loss: 0.3501 - acc: 0.8695 - val_loss: 0.3493 - val_acc: 0.8694\n",
      "Epoch 4/10\n",
      "4423/4423 [==============================] - 19s 4ms/step - loss: 0.3413 - acc: 0.8718 - val_loss: 0.3432 - val_acc: 0.8715\n",
      "Epoch 5/10\n",
      "4423/4423 [==============================] - 19s 4ms/step - loss: 0.3349 - acc: 0.8738 - val_loss: 0.3410 - val_acc: 0.8716\n",
      "Epoch 6/10\n",
      "4423/4423 [==============================] - 19s 4ms/step - loss: 0.3298 - acc: 0.8755 - val_loss: 0.3393 - val_acc: 0.8724\n",
      "Epoch 7/10\n",
      "4423/4423 [==============================] - 19s 4ms/step - loss: 0.3261 - acc: 0.8775 - val_loss: 0.3370 - val_acc: 0.8731\n",
      "Epoch 8/10\n",
      "4423/4423 [==============================] - 19s 4ms/step - loss: 0.3223 - acc: 0.8786 - val_loss: 0.3368 - val_acc: 0.8743\n",
      "Epoch 9/10\n",
      "4423/4423 [==============================] - 19s 4ms/step - loss: 0.3185 - acc: 0.8802 - val_loss: 0.3342 - val_acc: 0.8744\n",
      "Epoch 10/10\n",
      "4423/4423 [==============================] - 19s 4ms/step - loss: 0.3151 - acc: 0.8819 - val_loss: 0.3331 - val_acc: 0.8756\n"
     ]
    }
   ],
   "source": [
    "hist = model.fit(padded,y_train,batch_size=64, epochs=10, validation_data=(testing_padded,y_test), validation_batch_size=64)"
   ]
  },
  {
   "cell_type": "code",
   "execution_count": 60,
   "metadata": {},
   "outputs": [
    {
     "data": {
      "image/png": "[encoded data removed]",
      "text/plain": [
       "<Figure size 432x288 with 1 Axes>"
      ]
     },
     "metadata": {
      "needs_background": "light"
     },
     "output_type": "display_data"
    }
   ],
   "source": [
    "plot(hist)"
   ]
  },
  {
   "cell_type": "code",
   "execution_count": 61,
   "metadata": {},
   "outputs": [
    {
     "data": {
      "image/png": "[encoded data removed]",
      "text/plain": [
       "<Figure size 432x288 with 1 Axes>"
      ]
     },
     "metadata": {
      "needs_background": "light"
     },
     "output_type": "display_data"
    }
   ],
   "source": [
    "plot(hist, 'acc')"
   ]
  },
  {
   "cell_type": "code",
   "execution_count": null,
   "metadata": {},
   "outputs": [],
   "source": []
  }
 ],
 "metadata": {
  "kernelspec": {
   "display_name": "Python 3",
   "language": "python",
   "name": "python3"
  },
  "language_info": {
   "codemirror_mode": {
    "name": "ipython",
    "version": 3
   },
   "file_extension": ".py",
   "mimetype": "text/x-python",
   "name": "python",
   "nbconvert_exporter": "python",
   "pygments_lexer": "ipython3",
   "version": "3.7.9"
  }
 },
 "nbformat": 4,
 "nbformat_minor": 4
}
